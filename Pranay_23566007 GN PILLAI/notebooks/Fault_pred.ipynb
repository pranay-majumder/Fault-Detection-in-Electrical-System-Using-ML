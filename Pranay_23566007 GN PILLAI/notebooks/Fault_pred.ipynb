{
 "cells": [
  {
   "cell_type": "code",
   "execution_count": 199,
   "metadata": {},
   "outputs": [],
   "source": [
    "#pip install --upgrade scikit-learn"
   ]
  },
  {
   "cell_type": "code",
   "execution_count": 200,
   "metadata": {},
   "outputs": [],
   "source": [
    "import pandas as pd \n",
    "import numpy as np \n",
    "import seaborn as sns \n",
    "import matplotlib.pyplot as plt \n",
    "%matplotlib inline \n",
    "\n",
    "# Import label encoder \n",
    "from sklearn import preprocessing \n",
    "\n",
    "from sklearn.metrics import confusion_matrix\n",
    "from sklearn.metrics import classification_report\n",
    "\n",
    "\"\"\"\n",
    "The line warnings.filterwarnings('ignore') is used to ignore all warning messages. It essentially \n",
    "suppresses the display of warning messages to the console or standard error output. This can be \n",
    "useful in situations where you want to run your code without being interrupted or cluttered with \n",
    "warning messages, especially when you are aware of the warnings and have intentionally decided to \n",
    "ignore them.\n",
    "\"\"\"\n",
    "import warnings\n",
    "warnings.filterwarnings('ignore')"
   ]
  },
  {
   "cell_type": "code",
   "execution_count": 201,
   "metadata": {},
   "outputs": [
    {
     "data": {
      "text/html": [
       "<style type=\"text/css\">\n",
       "#T_68f9f_row0_col0, #T_68f9f_row0_col1, #T_68f9f_row0_col2, #T_68f9f_row0_col3, #T_68f9f_row0_col4, #T_68f9f_row0_col5, #T_68f9f_row0_col6, #T_68f9f_row0_col7, #T_68f9f_row0_col8, #T_68f9f_row0_col9, #T_68f9f_row1_col0, #T_68f9f_row1_col1, #T_68f9f_row1_col2, #T_68f9f_row1_col3, #T_68f9f_row1_col4, #T_68f9f_row1_col5, #T_68f9f_row1_col6, #T_68f9f_row1_col7, #T_68f9f_row1_col8, #T_68f9f_row1_col9, #T_68f9f_row2_col0, #T_68f9f_row2_col1, #T_68f9f_row2_col2, #T_68f9f_row2_col3, #T_68f9f_row2_col4, #T_68f9f_row2_col5, #T_68f9f_row2_col6, #T_68f9f_row2_col7, #T_68f9f_row2_col8, #T_68f9f_row2_col9, #T_68f9f_row3_col0, #T_68f9f_row3_col1, #T_68f9f_row3_col2, #T_68f9f_row3_col3, #T_68f9f_row3_col4, #T_68f9f_row3_col5, #T_68f9f_row3_col6, #T_68f9f_row3_col7, #T_68f9f_row3_col8, #T_68f9f_row3_col9, #T_68f9f_row4_col0, #T_68f9f_row4_col1, #T_68f9f_row4_col2, #T_68f9f_row4_col3, #T_68f9f_row4_col4, #T_68f9f_row4_col5, #T_68f9f_row4_col6, #T_68f9f_row4_col7, #T_68f9f_row4_col8, #T_68f9f_row4_col9, #T_68f9f_row5_col0, #T_68f9f_row5_col1, #T_68f9f_row5_col2, #T_68f9f_row5_col3, #T_68f9f_row5_col4, #T_68f9f_row5_col5, #T_68f9f_row5_col6, #T_68f9f_row5_col7, #T_68f9f_row5_col8, #T_68f9f_row5_col9, #T_68f9f_row6_col0, #T_68f9f_row6_col1, #T_68f9f_row6_col2, #T_68f9f_row6_col3, #T_68f9f_row6_col4, #T_68f9f_row6_col5, #T_68f9f_row6_col6, #T_68f9f_row6_col7, #T_68f9f_row6_col8, #T_68f9f_row6_col9, #T_68f9f_row7_col0, #T_68f9f_row7_col1, #T_68f9f_row7_col2, #T_68f9f_row7_col3, #T_68f9f_row7_col4, #T_68f9f_row7_col5, #T_68f9f_row7_col6, #T_68f9f_row7_col7, #T_68f9f_row7_col8, #T_68f9f_row7_col9 {\n",
       "  background-color: lightblue;\n",
       "  border: 1.5px solid red;\n",
       "  color: black;\n",
       "}\n",
       "</style>\n",
       "<table id=\"T_68f9f\">\n",
       "  <thead>\n",
       "    <tr>\n",
       "      <th class=\"blank level0\" >&nbsp;</th>\n",
       "      <th id=\"T_68f9f_level0_col0\" class=\"col_heading level0 col0\" >G</th>\n",
       "      <th id=\"T_68f9f_level0_col1\" class=\"col_heading level0 col1\" >C</th>\n",
       "      <th id=\"T_68f9f_level0_col2\" class=\"col_heading level0 col2\" >B</th>\n",
       "      <th id=\"T_68f9f_level0_col3\" class=\"col_heading level0 col3\" >A</th>\n",
       "      <th id=\"T_68f9f_level0_col4\" class=\"col_heading level0 col4\" >Ia</th>\n",
       "      <th id=\"T_68f9f_level0_col5\" class=\"col_heading level0 col5\" >Ib</th>\n",
       "      <th id=\"T_68f9f_level0_col6\" class=\"col_heading level0 col6\" >Ic</th>\n",
       "      <th id=\"T_68f9f_level0_col7\" class=\"col_heading level0 col7\" >Va</th>\n",
       "      <th id=\"T_68f9f_level0_col8\" class=\"col_heading level0 col8\" >Vb</th>\n",
       "      <th id=\"T_68f9f_level0_col9\" class=\"col_heading level0 col9\" >Vc</th>\n",
       "    </tr>\n",
       "  </thead>\n",
       "  <tbody>\n",
       "    <tr>\n",
       "      <th id=\"T_68f9f_level0_row0\" class=\"row_heading level0 row0\" >0</th>\n",
       "      <td id=\"T_68f9f_row0_col0\" class=\"data row0 col0\" >1</td>\n",
       "      <td id=\"T_68f9f_row0_col1\" class=\"data row0 col1\" >0</td>\n",
       "      <td id=\"T_68f9f_row0_col2\" class=\"data row0 col2\" >0</td>\n",
       "      <td id=\"T_68f9f_row0_col3\" class=\"data row0 col3\" >1</td>\n",
       "      <td id=\"T_68f9f_row0_col4\" class=\"data row0 col4\" >-151.291812</td>\n",
       "      <td id=\"T_68f9f_row0_col5\" class=\"data row0 col5\" >-9.677452</td>\n",
       "      <td id=\"T_68f9f_row0_col6\" class=\"data row0 col6\" >85.800162</td>\n",
       "      <td id=\"T_68f9f_row0_col7\" class=\"data row0 col7\" >0.400750</td>\n",
       "      <td id=\"T_68f9f_row0_col8\" class=\"data row0 col8\" >-0.132935</td>\n",
       "      <td id=\"T_68f9f_row0_col9\" class=\"data row0 col9\" >-0.267815</td>\n",
       "    </tr>\n",
       "    <tr>\n",
       "      <th id=\"T_68f9f_level0_row1\" class=\"row_heading level0 row1\" >1</th>\n",
       "      <td id=\"T_68f9f_row1_col0\" class=\"data row1 col0\" >1</td>\n",
       "      <td id=\"T_68f9f_row1_col1\" class=\"data row1 col1\" >0</td>\n",
       "      <td id=\"T_68f9f_row1_col2\" class=\"data row1 col2\" >0</td>\n",
       "      <td id=\"T_68f9f_row1_col3\" class=\"data row1 col3\" >1</td>\n",
       "      <td id=\"T_68f9f_row1_col4\" class=\"data row1 col4\" >-336.186183</td>\n",
       "      <td id=\"T_68f9f_row1_col5\" class=\"data row1 col5\" >-76.283262</td>\n",
       "      <td id=\"T_68f9f_row1_col6\" class=\"data row1 col6\" >18.328897</td>\n",
       "      <td id=\"T_68f9f_row1_col7\" class=\"data row1 col7\" >0.312732</td>\n",
       "      <td id=\"T_68f9f_row1_col8\" class=\"data row1 col8\" >-0.123633</td>\n",
       "      <td id=\"T_68f9f_row1_col9\" class=\"data row1 col9\" >-0.189099</td>\n",
       "    </tr>\n",
       "    <tr>\n",
       "      <th id=\"T_68f9f_level0_row2\" class=\"row_heading level0 row2\" >2</th>\n",
       "      <td id=\"T_68f9f_row2_col0\" class=\"data row2 col0\" >1</td>\n",
       "      <td id=\"T_68f9f_row2_col1\" class=\"data row2 col1\" >0</td>\n",
       "      <td id=\"T_68f9f_row2_col2\" class=\"data row2 col2\" >0</td>\n",
       "      <td id=\"T_68f9f_row2_col3\" class=\"data row2 col3\" >1</td>\n",
       "      <td id=\"T_68f9f_row2_col4\" class=\"data row2 col4\" >-502.891583</td>\n",
       "      <td id=\"T_68f9f_row2_col5\" class=\"data row2 col5\" >-174.648023</td>\n",
       "      <td id=\"T_68f9f_row2_col6\" class=\"data row2 col6\" >-80.924663</td>\n",
       "      <td id=\"T_68f9f_row2_col7\" class=\"data row2 col7\" >0.265728</td>\n",
       "      <td id=\"T_68f9f_row2_col8\" class=\"data row2 col8\" >-0.114301</td>\n",
       "      <td id=\"T_68f9f_row2_col9\" class=\"data row2 col9\" >-0.151428</td>\n",
       "    </tr>\n",
       "    <tr>\n",
       "      <th id=\"T_68f9f_level0_row3\" class=\"row_heading level0 row3\" >3</th>\n",
       "      <td id=\"T_68f9f_row3_col0\" class=\"data row3 col0\" >1</td>\n",
       "      <td id=\"T_68f9f_row3_col1\" class=\"data row3 col1\" >0</td>\n",
       "      <td id=\"T_68f9f_row3_col2\" class=\"data row3 col2\" >0</td>\n",
       "      <td id=\"T_68f9f_row3_col3\" class=\"data row3 col3\" >1</td>\n",
       "      <td id=\"T_68f9f_row3_col4\" class=\"data row3 col4\" >-593.941905</td>\n",
       "      <td id=\"T_68f9f_row3_col5\" class=\"data row3 col5\" >-217.703359</td>\n",
       "      <td id=\"T_68f9f_row3_col6\" class=\"data row3 col6\" >-124.891924</td>\n",
       "      <td id=\"T_68f9f_row3_col7\" class=\"data row3 col7\" >0.235511</td>\n",
       "      <td id=\"T_68f9f_row3_col8\" class=\"data row3 col8\" >-0.104940</td>\n",
       "      <td id=\"T_68f9f_row3_col9\" class=\"data row3 col9\" >-0.130570</td>\n",
       "    </tr>\n",
       "    <tr>\n",
       "      <th id=\"T_68f9f_level0_row4\" class=\"row_heading level0 row4\" >4</th>\n",
       "      <td id=\"T_68f9f_row4_col0\" class=\"data row4 col0\" >1</td>\n",
       "      <td id=\"T_68f9f_row4_col1\" class=\"data row4 col1\" >0</td>\n",
       "      <td id=\"T_68f9f_row4_col2\" class=\"data row4 col2\" >0</td>\n",
       "      <td id=\"T_68f9f_row4_col3\" class=\"data row4 col3\" >1</td>\n",
       "      <td id=\"T_68f9f_row4_col4\" class=\"data row4 col4\" >-643.663617</td>\n",
       "      <td id=\"T_68f9f_row4_col5\" class=\"data row4 col5\" >-224.159427</td>\n",
       "      <td id=\"T_68f9f_row4_col6\" class=\"data row4 col6\" >-132.282815</td>\n",
       "      <td id=\"T_68f9f_row4_col7\" class=\"data row4 col7\" >0.209537</td>\n",
       "      <td id=\"T_68f9f_row4_col8\" class=\"data row4 col8\" >-0.095554</td>\n",
       "      <td id=\"T_68f9f_row4_col9\" class=\"data row4 col9\" >-0.113983</td>\n",
       "    </tr>\n",
       "    <tr>\n",
       "      <th id=\"T_68f9f_level0_row5\" class=\"row_heading level0 row5\" >5</th>\n",
       "      <td id=\"T_68f9f_row5_col0\" class=\"data row5 col0\" >1</td>\n",
       "      <td id=\"T_68f9f_row5_col1\" class=\"data row5 col1\" >0</td>\n",
       "      <td id=\"T_68f9f_row5_col2\" class=\"data row5 col2\" >0</td>\n",
       "      <td id=\"T_68f9f_row5_col3\" class=\"data row5 col3\" >1</td>\n",
       "      <td id=\"T_68f9f_row5_col4\" class=\"data row5 col4\" >-632.312778</td>\n",
       "      <td id=\"T_68f9f_row5_col5\" class=\"data row5 col5\" >-181.714572</td>\n",
       "      <td id=\"T_68f9f_row5_col6\" class=\"data row5 col6\" >-90.795453</td>\n",
       "      <td id=\"T_68f9f_row5_col7\" class=\"data row5 col7\" >0.193116</td>\n",
       "      <td id=\"T_68f9f_row5_col8\" class=\"data row5 col8\" >-0.086144</td>\n",
       "      <td id=\"T_68f9f_row5_col9\" class=\"data row5 col9\" >-0.106972</td>\n",
       "    </tr>\n",
       "    <tr>\n",
       "      <th id=\"T_68f9f_level0_row6\" class=\"row_heading level0 row6\" >6</th>\n",
       "      <td id=\"T_68f9f_row6_col0\" class=\"data row6 col0\" >1</td>\n",
       "      <td id=\"T_68f9f_row6_col1\" class=\"data row6 col1\" >0</td>\n",
       "      <td id=\"T_68f9f_row6_col2\" class=\"data row6 col2\" >0</td>\n",
       "      <td id=\"T_68f9f_row6_col3\" class=\"data row6 col3\" >1</td>\n",
       "      <td id=\"T_68f9f_row6_col4\" class=\"data row6 col4\" >-557.391809</td>\n",
       "      <td id=\"T_68f9f_row6_col5\" class=\"data row6 col5\" >-119.468643</td>\n",
       "      <td id=\"T_68f9f_row6_col6\" class=\"data row6 col6\" >-29.529450</td>\n",
       "      <td id=\"T_68f9f_row6_col7\" class=\"data row6 col7\" >0.210004</td>\n",
       "      <td id=\"T_68f9f_row6_col8\" class=\"data row6 col8\" >-0.076712</td>\n",
       "      <td id=\"T_68f9f_row6_col9\" class=\"data row6 col9\" >-0.133291</td>\n",
       "    </tr>\n",
       "    <tr>\n",
       "      <th id=\"T_68f9f_level0_row7\" class=\"row_heading level0 row7\" >7</th>\n",
       "      <td id=\"T_68f9f_row7_col0\" class=\"data row7 col0\" >1</td>\n",
       "      <td id=\"T_68f9f_row7_col1\" class=\"data row7 col1\" >0</td>\n",
       "      <td id=\"T_68f9f_row7_col2\" class=\"data row7 col2\" >0</td>\n",
       "      <td id=\"T_68f9f_row7_col3\" class=\"data row7 col3\" >1</td>\n",
       "      <td id=\"T_68f9f_row7_col4\" class=\"data row7 col4\" >-458.799929</td>\n",
       "      <td id=\"T_68f9f_row7_col5\" class=\"data row7 col5\" >-96.318922</td>\n",
       "      <td id=\"T_68f9f_row7_col6\" class=\"data row7 col6\" >-7.381847</td>\n",
       "      <td id=\"T_68f9f_row7_col7\" class=\"data row7 col7\" >0.273652</td>\n",
       "      <td id=\"T_68f9f_row7_col8\" class=\"data row7 col8\" >-0.067262</td>\n",
       "      <td id=\"T_68f9f_row7_col9\" class=\"data row7 col9\" >-0.206389</td>\n",
       "    </tr>\n",
       "  </tbody>\n",
       "</table>\n"
      ],
      "text/plain": [
       "<pandas.io.formats.style.Styler at 0x1a790249ad0>"
      ]
     },
     "execution_count": 201,
     "metadata": {},
     "output_type": "execute_result"
    }
   ],
   "source": [
    "# Read the CSV file into a DataFrame\n",
    "df=pd.read_csv('classData.csv')\n",
    "#df.head(8)\n",
    "\n",
    "# Define a function to highlight the background color\n",
    "def highlight_background(val):\n",
    "    return 'background-color: lightblue;border: 1.5px solid red; color:black' # You can choose any color you prefer\n",
    "\n",
    "# Apply the style to the DataFrame using the Styler\n",
    "styled_df = df.head(8).style.applymap(highlight_background)\n",
    "\n",
    "# Display the styled DataFrame\n",
    "styled_df"
   ]
  },
  {
   "cell_type": "code",
   "execution_count": 202,
   "metadata": {},
   "outputs": [
    {
     "name": "stdout",
     "output_type": "stream",
     "text": [
      "<class 'pandas.core.frame.DataFrame'>\n",
      "RangeIndex: 7861 entries, 0 to 7860\n",
      "Data columns (total 10 columns):\n",
      " #   Column  Non-Null Count  Dtype  \n",
      "---  ------  --------------  -----  \n",
      " 0   G       7861 non-null   int64  \n",
      " 1   C       7861 non-null   int64  \n",
      " 2   B       7861 non-null   int64  \n",
      " 3   A       7861 non-null   int64  \n",
      " 4   Ia      7861 non-null   float64\n",
      " 5   Ib      7861 non-null   float64\n",
      " 6   Ic      7861 non-null   float64\n",
      " 7   Va      7861 non-null   float64\n",
      " 8   Vb      7861 non-null   float64\n",
      " 9   Vc      7861 non-null   float64\n",
      "dtypes: float64(6), int64(4)\n",
      "memory usage: 614.3 KB\n"
     ]
    }
   ],
   "source": [
    "df.info()"
   ]
  },
  {
   "cell_type": "code",
   "execution_count": 203,
   "metadata": {},
   "outputs": [
    {
     "data": {
      "text/html": [
       "<style type=\"text/css\">\n",
       "#T_372c3_row0_col0, #T_372c3_row0_col1, #T_372c3_row0_col2, #T_372c3_row0_col3, #T_372c3_row0_col4, #T_372c3_row0_col5, #T_372c3_row0_col6, #T_372c3_row0_col7, #T_372c3_row0_col8, #T_372c3_row0_col9, #T_372c3_row0_col10, #T_372c3_row1_col0, #T_372c3_row1_col1, #T_372c3_row1_col2, #T_372c3_row1_col3, #T_372c3_row1_col4, #T_372c3_row1_col5, #T_372c3_row1_col6, #T_372c3_row1_col7, #T_372c3_row1_col8, #T_372c3_row1_col9, #T_372c3_row1_col10, #T_372c3_row2_col0, #T_372c3_row2_col1, #T_372c3_row2_col2, #T_372c3_row2_col3, #T_372c3_row2_col4, #T_372c3_row2_col5, #T_372c3_row2_col6, #T_372c3_row2_col7, #T_372c3_row2_col8, #T_372c3_row2_col9, #T_372c3_row2_col10, #T_372c3_row3_col0, #T_372c3_row3_col1, #T_372c3_row3_col2, #T_372c3_row3_col3, #T_372c3_row3_col4, #T_372c3_row3_col5, #T_372c3_row3_col6, #T_372c3_row3_col7, #T_372c3_row3_col8, #T_372c3_row3_col9, #T_372c3_row3_col10, #T_372c3_row4_col0, #T_372c3_row4_col1, #T_372c3_row4_col2, #T_372c3_row4_col3, #T_372c3_row4_col4, #T_372c3_row4_col5, #T_372c3_row4_col6, #T_372c3_row4_col7, #T_372c3_row4_col8, #T_372c3_row4_col9, #T_372c3_row4_col10, #T_372c3_row5_col0, #T_372c3_row5_col1, #T_372c3_row5_col2, #T_372c3_row5_col3, #T_372c3_row5_col4, #T_372c3_row5_col5, #T_372c3_row5_col6, #T_372c3_row5_col7, #T_372c3_row5_col8, #T_372c3_row5_col9, #T_372c3_row5_col10, #T_372c3_row6_col0, #T_372c3_row6_col1, #T_372c3_row6_col2, #T_372c3_row6_col3, #T_372c3_row6_col4, #T_372c3_row6_col5, #T_372c3_row6_col6, #T_372c3_row6_col7, #T_372c3_row6_col8, #T_372c3_row6_col9, #T_372c3_row6_col10, #T_372c3_row7_col0, #T_372c3_row7_col1, #T_372c3_row7_col2, #T_372c3_row7_col3, #T_372c3_row7_col4, #T_372c3_row7_col5, #T_372c3_row7_col6, #T_372c3_row7_col7, #T_372c3_row7_col8, #T_372c3_row7_col9, #T_372c3_row7_col10 {\n",
       "  background-color: lightblue;\n",
       "  border: 1.5px solid red;\n",
       "  color: black;\n",
       "}\n",
       "</style>\n",
       "<table id=\"T_372c3\">\n",
       "  <thead>\n",
       "    <tr>\n",
       "      <th class=\"blank level0\" >&nbsp;</th>\n",
       "      <th id=\"T_372c3_level0_col0\" class=\"col_heading level0 col0\" >G</th>\n",
       "      <th id=\"T_372c3_level0_col1\" class=\"col_heading level0 col1\" >C</th>\n",
       "      <th id=\"T_372c3_level0_col2\" class=\"col_heading level0 col2\" >B</th>\n",
       "      <th id=\"T_372c3_level0_col3\" class=\"col_heading level0 col3\" >A</th>\n",
       "      <th id=\"T_372c3_level0_col4\" class=\"col_heading level0 col4\" >Ia</th>\n",
       "      <th id=\"T_372c3_level0_col5\" class=\"col_heading level0 col5\" >Ib</th>\n",
       "      <th id=\"T_372c3_level0_col6\" class=\"col_heading level0 col6\" >Ic</th>\n",
       "      <th id=\"T_372c3_level0_col7\" class=\"col_heading level0 col7\" >Va</th>\n",
       "      <th id=\"T_372c3_level0_col8\" class=\"col_heading level0 col8\" >Vb</th>\n",
       "      <th id=\"T_372c3_level0_col9\" class=\"col_heading level0 col9\" >Vc</th>\n",
       "      <th id=\"T_372c3_level0_col10\" class=\"col_heading level0 col10\" >Fault_Type</th>\n",
       "    </tr>\n",
       "  </thead>\n",
       "  <tbody>\n",
       "    <tr>\n",
       "      <th id=\"T_372c3_level0_row0\" class=\"row_heading level0 row0\" >0</th>\n",
       "      <td id=\"T_372c3_row0_col0\" class=\"data row0 col0\" >1</td>\n",
       "      <td id=\"T_372c3_row0_col1\" class=\"data row0 col1\" >0</td>\n",
       "      <td id=\"T_372c3_row0_col2\" class=\"data row0 col2\" >0</td>\n",
       "      <td id=\"T_372c3_row0_col3\" class=\"data row0 col3\" >1</td>\n",
       "      <td id=\"T_372c3_row0_col4\" class=\"data row0 col4\" >-151.291812</td>\n",
       "      <td id=\"T_372c3_row0_col5\" class=\"data row0 col5\" >-9.677452</td>\n",
       "      <td id=\"T_372c3_row0_col6\" class=\"data row0 col6\" >85.800162</td>\n",
       "      <td id=\"T_372c3_row0_col7\" class=\"data row0 col7\" >0.400750</td>\n",
       "      <td id=\"T_372c3_row0_col8\" class=\"data row0 col8\" >-0.132935</td>\n",
       "      <td id=\"T_372c3_row0_col9\" class=\"data row0 col9\" >-0.267815</td>\n",
       "      <td id=\"T_372c3_row0_col10\" class=\"data row0 col10\" >1001</td>\n",
       "    </tr>\n",
       "    <tr>\n",
       "      <th id=\"T_372c3_level0_row1\" class=\"row_heading level0 row1\" >1</th>\n",
       "      <td id=\"T_372c3_row1_col0\" class=\"data row1 col0\" >1</td>\n",
       "      <td id=\"T_372c3_row1_col1\" class=\"data row1 col1\" >0</td>\n",
       "      <td id=\"T_372c3_row1_col2\" class=\"data row1 col2\" >0</td>\n",
       "      <td id=\"T_372c3_row1_col3\" class=\"data row1 col3\" >1</td>\n",
       "      <td id=\"T_372c3_row1_col4\" class=\"data row1 col4\" >-336.186183</td>\n",
       "      <td id=\"T_372c3_row1_col5\" class=\"data row1 col5\" >-76.283262</td>\n",
       "      <td id=\"T_372c3_row1_col6\" class=\"data row1 col6\" >18.328897</td>\n",
       "      <td id=\"T_372c3_row1_col7\" class=\"data row1 col7\" >0.312732</td>\n",
       "      <td id=\"T_372c3_row1_col8\" class=\"data row1 col8\" >-0.123633</td>\n",
       "      <td id=\"T_372c3_row1_col9\" class=\"data row1 col9\" >-0.189099</td>\n",
       "      <td id=\"T_372c3_row1_col10\" class=\"data row1 col10\" >1001</td>\n",
       "    </tr>\n",
       "    <tr>\n",
       "      <th id=\"T_372c3_level0_row2\" class=\"row_heading level0 row2\" >2</th>\n",
       "      <td id=\"T_372c3_row2_col0\" class=\"data row2 col0\" >1</td>\n",
       "      <td id=\"T_372c3_row2_col1\" class=\"data row2 col1\" >0</td>\n",
       "      <td id=\"T_372c3_row2_col2\" class=\"data row2 col2\" >0</td>\n",
       "      <td id=\"T_372c3_row2_col3\" class=\"data row2 col3\" >1</td>\n",
       "      <td id=\"T_372c3_row2_col4\" class=\"data row2 col4\" >-502.891583</td>\n",
       "      <td id=\"T_372c3_row2_col5\" class=\"data row2 col5\" >-174.648023</td>\n",
       "      <td id=\"T_372c3_row2_col6\" class=\"data row2 col6\" >-80.924663</td>\n",
       "      <td id=\"T_372c3_row2_col7\" class=\"data row2 col7\" >0.265728</td>\n",
       "      <td id=\"T_372c3_row2_col8\" class=\"data row2 col8\" >-0.114301</td>\n",
       "      <td id=\"T_372c3_row2_col9\" class=\"data row2 col9\" >-0.151428</td>\n",
       "      <td id=\"T_372c3_row2_col10\" class=\"data row2 col10\" >1001</td>\n",
       "    </tr>\n",
       "    <tr>\n",
       "      <th id=\"T_372c3_level0_row3\" class=\"row_heading level0 row3\" >3</th>\n",
       "      <td id=\"T_372c3_row3_col0\" class=\"data row3 col0\" >1</td>\n",
       "      <td id=\"T_372c3_row3_col1\" class=\"data row3 col1\" >0</td>\n",
       "      <td id=\"T_372c3_row3_col2\" class=\"data row3 col2\" >0</td>\n",
       "      <td id=\"T_372c3_row3_col3\" class=\"data row3 col3\" >1</td>\n",
       "      <td id=\"T_372c3_row3_col4\" class=\"data row3 col4\" >-593.941905</td>\n",
       "      <td id=\"T_372c3_row3_col5\" class=\"data row3 col5\" >-217.703359</td>\n",
       "      <td id=\"T_372c3_row3_col6\" class=\"data row3 col6\" >-124.891924</td>\n",
       "      <td id=\"T_372c3_row3_col7\" class=\"data row3 col7\" >0.235511</td>\n",
       "      <td id=\"T_372c3_row3_col8\" class=\"data row3 col8\" >-0.104940</td>\n",
       "      <td id=\"T_372c3_row3_col9\" class=\"data row3 col9\" >-0.130570</td>\n",
       "      <td id=\"T_372c3_row3_col10\" class=\"data row3 col10\" >1001</td>\n",
       "    </tr>\n",
       "    <tr>\n",
       "      <th id=\"T_372c3_level0_row4\" class=\"row_heading level0 row4\" >4</th>\n",
       "      <td id=\"T_372c3_row4_col0\" class=\"data row4 col0\" >1</td>\n",
       "      <td id=\"T_372c3_row4_col1\" class=\"data row4 col1\" >0</td>\n",
       "      <td id=\"T_372c3_row4_col2\" class=\"data row4 col2\" >0</td>\n",
       "      <td id=\"T_372c3_row4_col3\" class=\"data row4 col3\" >1</td>\n",
       "      <td id=\"T_372c3_row4_col4\" class=\"data row4 col4\" >-643.663617</td>\n",
       "      <td id=\"T_372c3_row4_col5\" class=\"data row4 col5\" >-224.159427</td>\n",
       "      <td id=\"T_372c3_row4_col6\" class=\"data row4 col6\" >-132.282815</td>\n",
       "      <td id=\"T_372c3_row4_col7\" class=\"data row4 col7\" >0.209537</td>\n",
       "      <td id=\"T_372c3_row4_col8\" class=\"data row4 col8\" >-0.095554</td>\n",
       "      <td id=\"T_372c3_row4_col9\" class=\"data row4 col9\" >-0.113983</td>\n",
       "      <td id=\"T_372c3_row4_col10\" class=\"data row4 col10\" >1001</td>\n",
       "    </tr>\n",
       "    <tr>\n",
       "      <th id=\"T_372c3_level0_row5\" class=\"row_heading level0 row5\" >5</th>\n",
       "      <td id=\"T_372c3_row5_col0\" class=\"data row5 col0\" >1</td>\n",
       "      <td id=\"T_372c3_row5_col1\" class=\"data row5 col1\" >0</td>\n",
       "      <td id=\"T_372c3_row5_col2\" class=\"data row5 col2\" >0</td>\n",
       "      <td id=\"T_372c3_row5_col3\" class=\"data row5 col3\" >1</td>\n",
       "      <td id=\"T_372c3_row5_col4\" class=\"data row5 col4\" >-632.312778</td>\n",
       "      <td id=\"T_372c3_row5_col5\" class=\"data row5 col5\" >-181.714572</td>\n",
       "      <td id=\"T_372c3_row5_col6\" class=\"data row5 col6\" >-90.795453</td>\n",
       "      <td id=\"T_372c3_row5_col7\" class=\"data row5 col7\" >0.193116</td>\n",
       "      <td id=\"T_372c3_row5_col8\" class=\"data row5 col8\" >-0.086144</td>\n",
       "      <td id=\"T_372c3_row5_col9\" class=\"data row5 col9\" >-0.106972</td>\n",
       "      <td id=\"T_372c3_row5_col10\" class=\"data row5 col10\" >1001</td>\n",
       "    </tr>\n",
       "    <tr>\n",
       "      <th id=\"T_372c3_level0_row6\" class=\"row_heading level0 row6\" >6</th>\n",
       "      <td id=\"T_372c3_row6_col0\" class=\"data row6 col0\" >1</td>\n",
       "      <td id=\"T_372c3_row6_col1\" class=\"data row6 col1\" >0</td>\n",
       "      <td id=\"T_372c3_row6_col2\" class=\"data row6 col2\" >0</td>\n",
       "      <td id=\"T_372c3_row6_col3\" class=\"data row6 col3\" >1</td>\n",
       "      <td id=\"T_372c3_row6_col4\" class=\"data row6 col4\" >-557.391809</td>\n",
       "      <td id=\"T_372c3_row6_col5\" class=\"data row6 col5\" >-119.468643</td>\n",
       "      <td id=\"T_372c3_row6_col6\" class=\"data row6 col6\" >-29.529450</td>\n",
       "      <td id=\"T_372c3_row6_col7\" class=\"data row6 col7\" >0.210004</td>\n",
       "      <td id=\"T_372c3_row6_col8\" class=\"data row6 col8\" >-0.076712</td>\n",
       "      <td id=\"T_372c3_row6_col9\" class=\"data row6 col9\" >-0.133291</td>\n",
       "      <td id=\"T_372c3_row6_col10\" class=\"data row6 col10\" >1001</td>\n",
       "    </tr>\n",
       "    <tr>\n",
       "      <th id=\"T_372c3_level0_row7\" class=\"row_heading level0 row7\" >7</th>\n",
       "      <td id=\"T_372c3_row7_col0\" class=\"data row7 col0\" >1</td>\n",
       "      <td id=\"T_372c3_row7_col1\" class=\"data row7 col1\" >0</td>\n",
       "      <td id=\"T_372c3_row7_col2\" class=\"data row7 col2\" >0</td>\n",
       "      <td id=\"T_372c3_row7_col3\" class=\"data row7 col3\" >1</td>\n",
       "      <td id=\"T_372c3_row7_col4\" class=\"data row7 col4\" >-458.799929</td>\n",
       "      <td id=\"T_372c3_row7_col5\" class=\"data row7 col5\" >-96.318922</td>\n",
       "      <td id=\"T_372c3_row7_col6\" class=\"data row7 col6\" >-7.381847</td>\n",
       "      <td id=\"T_372c3_row7_col7\" class=\"data row7 col7\" >0.273652</td>\n",
       "      <td id=\"T_372c3_row7_col8\" class=\"data row7 col8\" >-0.067262</td>\n",
       "      <td id=\"T_372c3_row7_col9\" class=\"data row7 col9\" >-0.206389</td>\n",
       "      <td id=\"T_372c3_row7_col10\" class=\"data row7 col10\" >1001</td>\n",
       "    </tr>\n",
       "  </tbody>\n",
       "</table>\n"
      ],
      "text/plain": [
       "<pandas.io.formats.style.Styler at 0x1a7904257d0>"
      ]
     },
     "execution_count": 203,
     "metadata": {},
     "output_type": "execute_result"
    }
   ],
   "source": [
    " # Representing faults in one Fault_Type Column\n",
    "df['Fault_Type'] = df['G'].astype('str') + df['C'].astype('str') + df['B'].astype('str') + df['A'].astype('str')\n",
    "\n",
    "# Define a function to highlight the background color\n",
    "def highlight_background(val):\n",
    "    return 'background-color: lightblue;border: 1.5px solid red; color:black' # You can choose any color you prefer\n",
    "\n",
    "# Apply the style to the DataFrame using the Styler\n",
    "df.head(8).style.applymap(highlight_background)"
   ]
  },
  {
   "cell_type": "code",
   "execution_count": 204,
   "metadata": {},
   "outputs": [
    {
     "data": {
      "text/plain": [
       "array(['1001', '1011', '0110', '0111', '1111', '0000'], dtype=object)"
      ]
     },
     "execution_count": 204,
     "metadata": {},
     "output_type": "execute_result"
    }
   ],
   "source": [
    "df[\"Fault_Type\"].unique()"
   ]
  },
  {
   "cell_type": "code",
   "execution_count": 205,
   "metadata": {},
   "outputs": [
    {
     "data": {
      "text/html": [
       "<style type=\"text/css\">\n",
       "#T_06728_row0_col0, #T_06728_row0_col1, #T_06728_row0_col2, #T_06728_row0_col3, #T_06728_row0_col4, #T_06728_row0_col5, #T_06728_row0_col6, #T_06728_row0_col7, #T_06728_row0_col8, #T_06728_row0_col9, #T_06728_row0_col10, #T_06728_row1_col0, #T_06728_row1_col1, #T_06728_row1_col2, #T_06728_row1_col3, #T_06728_row1_col4, #T_06728_row1_col5, #T_06728_row1_col6, #T_06728_row1_col7, #T_06728_row1_col8, #T_06728_row1_col9, #T_06728_row1_col10, #T_06728_row2_col0, #T_06728_row2_col1, #T_06728_row2_col2, #T_06728_row2_col3, #T_06728_row2_col4, #T_06728_row2_col5, #T_06728_row2_col6, #T_06728_row2_col7, #T_06728_row2_col8, #T_06728_row2_col9, #T_06728_row2_col10, #T_06728_row3_col0, #T_06728_row3_col1, #T_06728_row3_col2, #T_06728_row3_col3, #T_06728_row3_col4, #T_06728_row3_col5, #T_06728_row3_col6, #T_06728_row3_col7, #T_06728_row3_col8, #T_06728_row3_col9, #T_06728_row3_col10, #T_06728_row4_col0, #T_06728_row4_col1, #T_06728_row4_col2, #T_06728_row4_col3, #T_06728_row4_col4, #T_06728_row4_col5, #T_06728_row4_col6, #T_06728_row4_col7, #T_06728_row4_col8, #T_06728_row4_col9, #T_06728_row4_col10, #T_06728_row5_col0, #T_06728_row5_col1, #T_06728_row5_col2, #T_06728_row5_col3, #T_06728_row5_col4, #T_06728_row5_col5, #T_06728_row5_col6, #T_06728_row5_col7, #T_06728_row5_col8, #T_06728_row5_col9, #T_06728_row5_col10, #T_06728_row6_col0, #T_06728_row6_col1, #T_06728_row6_col2, #T_06728_row6_col3, #T_06728_row6_col4, #T_06728_row6_col5, #T_06728_row6_col6, #T_06728_row6_col7, #T_06728_row6_col8, #T_06728_row6_col9, #T_06728_row6_col10, #T_06728_row7_col0, #T_06728_row7_col1, #T_06728_row7_col2, #T_06728_row7_col3, #T_06728_row7_col4, #T_06728_row7_col5, #T_06728_row7_col6, #T_06728_row7_col7, #T_06728_row7_col8, #T_06728_row7_col9, #T_06728_row7_col10 {\n",
       "  background-color: lightgreen;\n",
       "  border: 1.5px solid red;\n",
       "  color: black;\n",
       "}\n",
       "</style>\n",
       "<table id=\"T_06728\">\n",
       "  <thead>\n",
       "    <tr>\n",
       "      <th class=\"blank level0\" >&nbsp;</th>\n",
       "      <th id=\"T_06728_level0_col0\" class=\"col_heading level0 col0\" >G</th>\n",
       "      <th id=\"T_06728_level0_col1\" class=\"col_heading level0 col1\" >C</th>\n",
       "      <th id=\"T_06728_level0_col2\" class=\"col_heading level0 col2\" >B</th>\n",
       "      <th id=\"T_06728_level0_col3\" class=\"col_heading level0 col3\" >A</th>\n",
       "      <th id=\"T_06728_level0_col4\" class=\"col_heading level0 col4\" >Ia</th>\n",
       "      <th id=\"T_06728_level0_col5\" class=\"col_heading level0 col5\" >Ib</th>\n",
       "      <th id=\"T_06728_level0_col6\" class=\"col_heading level0 col6\" >Ic</th>\n",
       "      <th id=\"T_06728_level0_col7\" class=\"col_heading level0 col7\" >Va</th>\n",
       "      <th id=\"T_06728_level0_col8\" class=\"col_heading level0 col8\" >Vb</th>\n",
       "      <th id=\"T_06728_level0_col9\" class=\"col_heading level0 col9\" >Vc</th>\n",
       "      <th id=\"T_06728_level0_col10\" class=\"col_heading level0 col10\" >Fault_Type</th>\n",
       "    </tr>\n",
       "  </thead>\n",
       "  <tbody>\n",
       "    <tr>\n",
       "      <th id=\"T_06728_level0_row0\" class=\"row_heading level0 row0\" >0</th>\n",
       "      <td id=\"T_06728_row0_col0\" class=\"data row0 col0\" >1</td>\n",
       "      <td id=\"T_06728_row0_col1\" class=\"data row0 col1\" >0</td>\n",
       "      <td id=\"T_06728_row0_col2\" class=\"data row0 col2\" >0</td>\n",
       "      <td id=\"T_06728_row0_col3\" class=\"data row0 col3\" >1</td>\n",
       "      <td id=\"T_06728_row0_col4\" class=\"data row0 col4\" >-151.291812</td>\n",
       "      <td id=\"T_06728_row0_col5\" class=\"data row0 col5\" >-9.677452</td>\n",
       "      <td id=\"T_06728_row0_col6\" class=\"data row0 col6\" >85.800162</td>\n",
       "      <td id=\"T_06728_row0_col7\" class=\"data row0 col7\" >0.400750</td>\n",
       "      <td id=\"T_06728_row0_col8\" class=\"data row0 col8\" >-0.132935</td>\n",
       "      <td id=\"T_06728_row0_col9\" class=\"data row0 col9\" >-0.267815</td>\n",
       "      <td id=\"T_06728_row0_col10\" class=\"data row0 col10\" >Line A to Ground Fault</td>\n",
       "    </tr>\n",
       "    <tr>\n",
       "      <th id=\"T_06728_level0_row1\" class=\"row_heading level0 row1\" >1</th>\n",
       "      <td id=\"T_06728_row1_col0\" class=\"data row1 col0\" >1</td>\n",
       "      <td id=\"T_06728_row1_col1\" class=\"data row1 col1\" >0</td>\n",
       "      <td id=\"T_06728_row1_col2\" class=\"data row1 col2\" >0</td>\n",
       "      <td id=\"T_06728_row1_col3\" class=\"data row1 col3\" >1</td>\n",
       "      <td id=\"T_06728_row1_col4\" class=\"data row1 col4\" >-336.186183</td>\n",
       "      <td id=\"T_06728_row1_col5\" class=\"data row1 col5\" >-76.283262</td>\n",
       "      <td id=\"T_06728_row1_col6\" class=\"data row1 col6\" >18.328897</td>\n",
       "      <td id=\"T_06728_row1_col7\" class=\"data row1 col7\" >0.312732</td>\n",
       "      <td id=\"T_06728_row1_col8\" class=\"data row1 col8\" >-0.123633</td>\n",
       "      <td id=\"T_06728_row1_col9\" class=\"data row1 col9\" >-0.189099</td>\n",
       "      <td id=\"T_06728_row1_col10\" class=\"data row1 col10\" >Line A to Ground Fault</td>\n",
       "    </tr>\n",
       "    <tr>\n",
       "      <th id=\"T_06728_level0_row2\" class=\"row_heading level0 row2\" >2</th>\n",
       "      <td id=\"T_06728_row2_col0\" class=\"data row2 col0\" >1</td>\n",
       "      <td id=\"T_06728_row2_col1\" class=\"data row2 col1\" >0</td>\n",
       "      <td id=\"T_06728_row2_col2\" class=\"data row2 col2\" >0</td>\n",
       "      <td id=\"T_06728_row2_col3\" class=\"data row2 col3\" >1</td>\n",
       "      <td id=\"T_06728_row2_col4\" class=\"data row2 col4\" >-502.891583</td>\n",
       "      <td id=\"T_06728_row2_col5\" class=\"data row2 col5\" >-174.648023</td>\n",
       "      <td id=\"T_06728_row2_col6\" class=\"data row2 col6\" >-80.924663</td>\n",
       "      <td id=\"T_06728_row2_col7\" class=\"data row2 col7\" >0.265728</td>\n",
       "      <td id=\"T_06728_row2_col8\" class=\"data row2 col8\" >-0.114301</td>\n",
       "      <td id=\"T_06728_row2_col9\" class=\"data row2 col9\" >-0.151428</td>\n",
       "      <td id=\"T_06728_row2_col10\" class=\"data row2 col10\" >Line A to Ground Fault</td>\n",
       "    </tr>\n",
       "    <tr>\n",
       "      <th id=\"T_06728_level0_row3\" class=\"row_heading level0 row3\" >3</th>\n",
       "      <td id=\"T_06728_row3_col0\" class=\"data row3 col0\" >1</td>\n",
       "      <td id=\"T_06728_row3_col1\" class=\"data row3 col1\" >0</td>\n",
       "      <td id=\"T_06728_row3_col2\" class=\"data row3 col2\" >0</td>\n",
       "      <td id=\"T_06728_row3_col3\" class=\"data row3 col3\" >1</td>\n",
       "      <td id=\"T_06728_row3_col4\" class=\"data row3 col4\" >-593.941905</td>\n",
       "      <td id=\"T_06728_row3_col5\" class=\"data row3 col5\" >-217.703359</td>\n",
       "      <td id=\"T_06728_row3_col6\" class=\"data row3 col6\" >-124.891924</td>\n",
       "      <td id=\"T_06728_row3_col7\" class=\"data row3 col7\" >0.235511</td>\n",
       "      <td id=\"T_06728_row3_col8\" class=\"data row3 col8\" >-0.104940</td>\n",
       "      <td id=\"T_06728_row3_col9\" class=\"data row3 col9\" >-0.130570</td>\n",
       "      <td id=\"T_06728_row3_col10\" class=\"data row3 col10\" >Line A to Ground Fault</td>\n",
       "    </tr>\n",
       "    <tr>\n",
       "      <th id=\"T_06728_level0_row4\" class=\"row_heading level0 row4\" >4</th>\n",
       "      <td id=\"T_06728_row4_col0\" class=\"data row4 col0\" >1</td>\n",
       "      <td id=\"T_06728_row4_col1\" class=\"data row4 col1\" >0</td>\n",
       "      <td id=\"T_06728_row4_col2\" class=\"data row4 col2\" >0</td>\n",
       "      <td id=\"T_06728_row4_col3\" class=\"data row4 col3\" >1</td>\n",
       "      <td id=\"T_06728_row4_col4\" class=\"data row4 col4\" >-643.663617</td>\n",
       "      <td id=\"T_06728_row4_col5\" class=\"data row4 col5\" >-224.159427</td>\n",
       "      <td id=\"T_06728_row4_col6\" class=\"data row4 col6\" >-132.282815</td>\n",
       "      <td id=\"T_06728_row4_col7\" class=\"data row4 col7\" >0.209537</td>\n",
       "      <td id=\"T_06728_row4_col8\" class=\"data row4 col8\" >-0.095554</td>\n",
       "      <td id=\"T_06728_row4_col9\" class=\"data row4 col9\" >-0.113983</td>\n",
       "      <td id=\"T_06728_row4_col10\" class=\"data row4 col10\" >Line A to Ground Fault</td>\n",
       "    </tr>\n",
       "    <tr>\n",
       "      <th id=\"T_06728_level0_row5\" class=\"row_heading level0 row5\" >5</th>\n",
       "      <td id=\"T_06728_row5_col0\" class=\"data row5 col0\" >1</td>\n",
       "      <td id=\"T_06728_row5_col1\" class=\"data row5 col1\" >0</td>\n",
       "      <td id=\"T_06728_row5_col2\" class=\"data row5 col2\" >0</td>\n",
       "      <td id=\"T_06728_row5_col3\" class=\"data row5 col3\" >1</td>\n",
       "      <td id=\"T_06728_row5_col4\" class=\"data row5 col4\" >-632.312778</td>\n",
       "      <td id=\"T_06728_row5_col5\" class=\"data row5 col5\" >-181.714572</td>\n",
       "      <td id=\"T_06728_row5_col6\" class=\"data row5 col6\" >-90.795453</td>\n",
       "      <td id=\"T_06728_row5_col7\" class=\"data row5 col7\" >0.193116</td>\n",
       "      <td id=\"T_06728_row5_col8\" class=\"data row5 col8\" >-0.086144</td>\n",
       "      <td id=\"T_06728_row5_col9\" class=\"data row5 col9\" >-0.106972</td>\n",
       "      <td id=\"T_06728_row5_col10\" class=\"data row5 col10\" >Line A to Ground Fault</td>\n",
       "    </tr>\n",
       "    <tr>\n",
       "      <th id=\"T_06728_level0_row6\" class=\"row_heading level0 row6\" >6</th>\n",
       "      <td id=\"T_06728_row6_col0\" class=\"data row6 col0\" >1</td>\n",
       "      <td id=\"T_06728_row6_col1\" class=\"data row6 col1\" >0</td>\n",
       "      <td id=\"T_06728_row6_col2\" class=\"data row6 col2\" >0</td>\n",
       "      <td id=\"T_06728_row6_col3\" class=\"data row6 col3\" >1</td>\n",
       "      <td id=\"T_06728_row6_col4\" class=\"data row6 col4\" >-557.391809</td>\n",
       "      <td id=\"T_06728_row6_col5\" class=\"data row6 col5\" >-119.468643</td>\n",
       "      <td id=\"T_06728_row6_col6\" class=\"data row6 col6\" >-29.529450</td>\n",
       "      <td id=\"T_06728_row6_col7\" class=\"data row6 col7\" >0.210004</td>\n",
       "      <td id=\"T_06728_row6_col8\" class=\"data row6 col8\" >-0.076712</td>\n",
       "      <td id=\"T_06728_row6_col9\" class=\"data row6 col9\" >-0.133291</td>\n",
       "      <td id=\"T_06728_row6_col10\" class=\"data row6 col10\" >Line A to Ground Fault</td>\n",
       "    </tr>\n",
       "    <tr>\n",
       "      <th id=\"T_06728_level0_row7\" class=\"row_heading level0 row7\" >7</th>\n",
       "      <td id=\"T_06728_row7_col0\" class=\"data row7 col0\" >1</td>\n",
       "      <td id=\"T_06728_row7_col1\" class=\"data row7 col1\" >0</td>\n",
       "      <td id=\"T_06728_row7_col2\" class=\"data row7 col2\" >0</td>\n",
       "      <td id=\"T_06728_row7_col3\" class=\"data row7 col3\" >1</td>\n",
       "      <td id=\"T_06728_row7_col4\" class=\"data row7 col4\" >-458.799929</td>\n",
       "      <td id=\"T_06728_row7_col5\" class=\"data row7 col5\" >-96.318922</td>\n",
       "      <td id=\"T_06728_row7_col6\" class=\"data row7 col6\" >-7.381847</td>\n",
       "      <td id=\"T_06728_row7_col7\" class=\"data row7 col7\" >0.273652</td>\n",
       "      <td id=\"T_06728_row7_col8\" class=\"data row7 col8\" >-0.067262</td>\n",
       "      <td id=\"T_06728_row7_col9\" class=\"data row7 col9\" >-0.206389</td>\n",
       "      <td id=\"T_06728_row7_col10\" class=\"data row7 col10\" >Line A to Ground Fault</td>\n",
       "    </tr>\n",
       "  </tbody>\n",
       "</table>\n"
      ],
      "text/plain": [
       "<pandas.io.formats.style.Styler at 0x1a7900c45d0>"
      ]
     },
     "execution_count": 205,
     "metadata": {},
     "output_type": "execute_result"
    }
   ],
   "source": [
    "# Replacing Values of Fault Type For Easy Visualization\n",
    "\n",
    "df['Fault_Type'][df['Fault_Type'] == '0000' ] = 'NO Fault'\n",
    "df['Fault_Type'][df['Fault_Type'] == '1001' ] = 'Line A to Ground Fault'\n",
    "df['Fault_Type'][df['Fault_Type'] == '0110' ] = 'Line B to Line C Fault'\n",
    "df['Fault_Type'][df['Fault_Type'] == '1011' ] = 'Line A Line B to Ground Fault'\n",
    "df['Fault_Type'][df['Fault_Type'] == '0111' ] = 'Line A Line B Line C Fault'\n",
    "df['Fault_Type'][df['Fault_Type'] == '1111' ] = 'Line A Line B Line C to Ground Fault'\n",
    "\n",
    "# Define a function to highlight the background color\n",
    "def highlight_background(val):\n",
    "    return 'background-color: lightgreen;border: 1.5px solid red; color:black' # You can choose any color you prefer\n",
    "\n",
    "# Apply the style to the DataFrame using the Styler\n",
    "df.head(8).style.applymap(highlight_background)"
   ]
  },
  {
   "cell_type": "code",
   "execution_count": 206,
   "metadata": {},
   "outputs": [
    {
     "data": {
      "text/plain": [
       "Fault_Type\n",
       "NO Fault                                2365\n",
       "Line A Line B to Ground Fault           1134\n",
       "Line A Line B Line C to Ground Fault    1133\n",
       "Line A to Ground Fault                  1129\n",
       "Line A Line B Line C Fault              1096\n",
       "Line B to Line C Fault                  1004\n",
       "Name: count, dtype: int64"
      ]
     },
     "execution_count": 206,
     "metadata": {},
     "output_type": "execute_result"
    }
   ],
   "source": [
    "# Analyzing the count of different types of fault types.\n",
    "df['Fault_Type'].value_counts(ascending=False)"
   ]
  },
  {
   "cell_type": "code",
   "execution_count": 207,
   "metadata": {},
   "outputs": [
    {
     "data": {
      "text/plain": [
       "array([3, 2, 4, 0, 1, 5])"
      ]
     },
     "execution_count": 207,
     "metadata": {},
     "output_type": "execute_result"
    }
   ],
   "source": [
    "# label_encoder object knows  \n",
    "# how to understand word labels. \n",
    "label_encoder = preprocessing.LabelEncoder() \n",
    "\n",
    "df_new=df.copy()\n",
    "# Encode labels in column 'species'. \n",
    "df_new['Fault_Type']= label_encoder.fit_transform(df_new['Fault_Type']) \n",
    "  \n",
    "df_new['Fault_Type'].unique() "
   ]
  },
  {
   "cell_type": "code",
   "execution_count": 208,
   "metadata": {},
   "outputs": [
    {
     "name": "stdout",
     "output_type": "stream",
     "text": [
      "{'Line A Line B Line C Fault': 0, 'Line A Line B Line C to Ground Fault': 1, 'Line A Line B to Ground Fault': 2, 'Line A to Ground Fault': 3, 'Line B to Line C Fault': 4, 'NO Fault': 5}\n"
     ]
    }
   ],
   "source": [
    "# Get the mapping of original categories to numerical values\n",
    "label_mapping = dict(zip(label_encoder.classes_, label_encoder.transform(label_encoder.classes_)))\n",
    "\n",
    "# Print the mapping\n",
    "print(label_mapping)"
   ]
  },
  {
   "cell_type": "code",
   "execution_count": 209,
   "metadata": {},
   "outputs": [
    {
     "data": {
      "text/html": [
       "<div>\n",
       "<style scoped>\n",
       "    .dataframe tbody tr th:only-of-type {\n",
       "        vertical-align: middle;\n",
       "    }\n",
       "\n",
       "    .dataframe tbody tr th {\n",
       "        vertical-align: top;\n",
       "    }\n",
       "\n",
       "    .dataframe thead th {\n",
       "        text-align: right;\n",
       "    }\n",
       "</style>\n",
       "<table border=\"1\" class=\"dataframe\">\n",
       "  <thead>\n",
       "    <tr style=\"text-align: right;\">\n",
       "      <th></th>\n",
       "      <th>G</th>\n",
       "      <th>C</th>\n",
       "      <th>B</th>\n",
       "      <th>A</th>\n",
       "      <th>Ia</th>\n",
       "      <th>Ib</th>\n",
       "      <th>Ic</th>\n",
       "      <th>Va</th>\n",
       "      <th>Vb</th>\n",
       "      <th>Vc</th>\n",
       "      <th>Fault_Type</th>\n",
       "    </tr>\n",
       "  </thead>\n",
       "  <tbody>\n",
       "    <tr>\n",
       "      <th>0</th>\n",
       "      <td>1</td>\n",
       "      <td>0</td>\n",
       "      <td>0</td>\n",
       "      <td>1</td>\n",
       "      <td>-151.291812</td>\n",
       "      <td>-9.677452</td>\n",
       "      <td>85.800162</td>\n",
       "      <td>0.400750</td>\n",
       "      <td>-0.132935</td>\n",
       "      <td>-0.267815</td>\n",
       "      <td>3</td>\n",
       "    </tr>\n",
       "    <tr>\n",
       "      <th>1</th>\n",
       "      <td>1</td>\n",
       "      <td>0</td>\n",
       "      <td>0</td>\n",
       "      <td>1</td>\n",
       "      <td>-336.186183</td>\n",
       "      <td>-76.283262</td>\n",
       "      <td>18.328897</td>\n",
       "      <td>0.312732</td>\n",
       "      <td>-0.123633</td>\n",
       "      <td>-0.189099</td>\n",
       "      <td>3</td>\n",
       "    </tr>\n",
       "    <tr>\n",
       "      <th>2</th>\n",
       "      <td>1</td>\n",
       "      <td>0</td>\n",
       "      <td>0</td>\n",
       "      <td>1</td>\n",
       "      <td>-502.891583</td>\n",
       "      <td>-174.648023</td>\n",
       "      <td>-80.924663</td>\n",
       "      <td>0.265728</td>\n",
       "      <td>-0.114301</td>\n",
       "      <td>-0.151428</td>\n",
       "      <td>3</td>\n",
       "    </tr>\n",
       "    <tr>\n",
       "      <th>3</th>\n",
       "      <td>1</td>\n",
       "      <td>0</td>\n",
       "      <td>0</td>\n",
       "      <td>1</td>\n",
       "      <td>-593.941905</td>\n",
       "      <td>-217.703359</td>\n",
       "      <td>-124.891924</td>\n",
       "      <td>0.235511</td>\n",
       "      <td>-0.104940</td>\n",
       "      <td>-0.130570</td>\n",
       "      <td>3</td>\n",
       "    </tr>\n",
       "    <tr>\n",
       "      <th>4</th>\n",
       "      <td>1</td>\n",
       "      <td>0</td>\n",
       "      <td>0</td>\n",
       "      <td>1</td>\n",
       "      <td>-643.663617</td>\n",
       "      <td>-224.159427</td>\n",
       "      <td>-132.282815</td>\n",
       "      <td>0.209537</td>\n",
       "      <td>-0.095554</td>\n",
       "      <td>-0.113983</td>\n",
       "      <td>3</td>\n",
       "    </tr>\n",
       "  </tbody>\n",
       "</table>\n",
       "</div>"
      ],
      "text/plain": [
       "   G  C  B  A          Ia          Ib          Ic        Va        Vb  \\\n",
       "0  1  0  0  1 -151.291812   -9.677452   85.800162  0.400750 -0.132935   \n",
       "1  1  0  0  1 -336.186183  -76.283262   18.328897  0.312732 -0.123633   \n",
       "2  1  0  0  1 -502.891583 -174.648023  -80.924663  0.265728 -0.114301   \n",
       "3  1  0  0  1 -593.941905 -217.703359 -124.891924  0.235511 -0.104940   \n",
       "4  1  0  0  1 -643.663617 -224.159427 -132.282815  0.209537 -0.095554   \n",
       "\n",
       "         Vc  Fault_Type  \n",
       "0 -0.267815           3  \n",
       "1 -0.189099           3  \n",
       "2 -0.151428           3  \n",
       "3 -0.130570           3  \n",
       "4 -0.113983           3  "
      ]
     },
     "execution_count": 209,
     "metadata": {},
     "output_type": "execute_result"
    }
   ],
   "source": [
    "df_new.head()"
   ]
  },
  {
   "cell_type": "code",
   "execution_count": 210,
   "metadata": {},
   "outputs": [],
   "source": [
    "X = df_new.drop(['Fault_Type','G','C','B','A'],axis=1)\n",
    "Y=df_new['Fault_Type']"
   ]
  },
  {
   "cell_type": "code",
   "execution_count": 211,
   "metadata": {},
   "outputs": [],
   "source": [
    "\"\"\"scaling of train and test data for better optimization, due to scaling gradient descent can find \n",
    "much more direct path to the \"\"\"\n",
    "\n",
    "# global minima\n",
    "from sklearn.preprocessing import StandardScaler\n",
    "sc=StandardScaler()\n",
    "X = sc.fit_transform(X)\n",
    "\n",
    "\n"
   ]
  },
  {
   "cell_type": "code",
   "execution_count": 212,
   "metadata": {},
   "outputs": [
    {
     "data": {
      "text/plain": [
       "array([[-0.35508652,  0.08006492,  0.13853412,  1.41256321, -0.427823  ,\n",
       "        -0.89103573],\n",
       "       [-0.75295515, -0.07157341, -0.04328806,  1.10814177, -0.39814437,\n",
       "        -0.63536224],\n",
       "       [-1.11168348, -0.29551585, -0.31075745,  0.94557408, -0.36836805,\n",
       "        -0.51300488],\n",
       "       ...,\n",
       "       [-0.170359  ,  0.18513134, -0.02232876,  0.41771147, -1.78472396,\n",
       "         1.4245578 ],\n",
       "       [-0.16946153,  0.18286615, -0.02077068,  0.44986841, -1.79392343,\n",
       "         1.4037238 ],\n",
       "       [-0.16853358,  0.18059794, -0.01924721,  0.48191057, -1.80266717,\n",
       "         1.38253366]])"
      ]
     },
     "execution_count": 212,
     "metadata": {},
     "output_type": "execute_result"
    }
   ],
   "source": [
    "X"
   ]
  },
  {
   "cell_type": "code",
   "execution_count": 213,
   "metadata": {},
   "outputs": [],
   "source": [
    "# Train Test Split \n",
    "from sklearn.model_selection import train_test_split\n",
    "X_train,X_test,Y_train,Y_test = train_test_split(X,Y,test_size=.20,random_state=30)"
   ]
  },
  {
   "cell_type": "code",
   "execution_count": 214,
   "metadata": {},
   "outputs": [
    {
     "name": "stdout",
     "output_type": "stream",
     "text": [
      "Best Accuracy 0.912269548633185\n",
      "Best Random State 797\n"
     ]
    }
   ],
   "source": [
    "from sklearn.neighbors import KNeighborsClassifier\n",
    "from sklearn.metrics import accuracy_score\n",
    "from sklearn.model_selection import train_test_split\n",
    "\n",
    "acc=0\n",
    "state=1\n",
    "for i in range(1,1000):\n",
    "    X_train,X_test,Y_train,Y_test = train_test_split(X,Y,test_size=.20,random_state=i)\n",
    "    knn = KNeighborsClassifier(n_neighbors=1)\n",
    "    knn.fit(X_train,Y_train)\n",
    "    pred_knn = knn.predict(X_test)\n",
    "    if(accuracy_score(Y_test, pred_knn)>acc):\n",
    "        acc=accuracy_score(Y_test, pred_knn)\n",
    "        state=i\n",
    "\n",
    "print('Best Accuracy {}'.format(acc))\n",
    "print('Best Random State {}'.format(state))\n"
   ]
  },
  {
   "cell_type": "code",
   "execution_count": 215,
   "metadata": {},
   "outputs": [
    {
     "name": "stdout",
     "output_type": "stream",
     "text": [
      "Accuracy: 0.91\n"
     ]
    }
   ],
   "source": [
    "X_train,X_test,Y_train,Y_test = train_test_split(X,Y,test_size=.20,random_state=797)\n",
    "knn = KNeighborsClassifier(n_neighbors=1)\n",
    "knn.fit(X_train,Y_train)\n",
    "pred_knn = knn.predict(X_test)\n",
    "print('Accuracy: {:.2f}'.format(accuracy_score(Y_test, pred_knn)))"
   ]
  },
  {
   "cell_type": "code",
   "execution_count": 216,
   "metadata": {},
   "outputs": [
    {
     "name": "stdout",
     "output_type": "stream",
     "text": [
      "              precision    recall  f1-score   support\n",
      "\n",
      "           0       0.68      0.64      0.66       201\n",
      "           1       0.68      0.72      0.70       219\n",
      "           2       1.00      0.98      0.99       259\n",
      "           3       0.98      1.00      0.99       220\n",
      "           4       1.00      1.00      1.00       200\n",
      "           5       1.00      1.00      1.00       474\n",
      "\n",
      "    accuracy                           0.91      1573\n",
      "   macro avg       0.89      0.89      0.89      1573\n",
      "weighted avg       0.91      0.91      0.91      1573\n",
      "\n"
     ]
    }
   ],
   "source": [
    "print(classification_report(Y_test,pred_knn))"
   ]
  },
  {
   "cell_type": "code",
   "execution_count": 217,
   "metadata": {},
   "outputs": [
    {
     "data": {
      "image/png": "[encoded data removed]",
      "text/plain": [
       "<Figure size 640x480 with 2 Axes>"
      ]
     },
     "metadata": {},
     "output_type": "display_data"
    }
   ],
   "source": [
    "# When Ever we have any Kind of table we can represent\n",
    "# it using Heat Map\n",
    "conf_matrix=confusion_matrix(Y_test,pred_knn)\n",
    "sns.heatmap(conf_matrix,annot=True,cmap='Set1')\n",
    "\n",
    "plt.title(\"Confusion Matrix for KNN\")\n",
    "plt.xlabel(\"Predicted\")\n",
    "plt.ylabel(\"Actual\")\n",
    "plt.show()"
   ]
  },
  {
   "cell_type": "code",
   "execution_count": 218,
   "metadata": {},
   "outputs": [
    {
     "name": "stdout",
     "output_type": "stream",
     "text": [
      "Best Accuracy 0.9097266369993643\n",
      "Best Random State 997\n"
     ]
    }
   ],
   "source": [
    "from sklearn.tree import DecisionTreeClassifier\n",
    "\n",
    "acc=0\n",
    "state=1\n",
    "for i in range(1,1000):\n",
    "  X_train,X_test,Y_train,Y_test = train_test_split(X,Y,test_size=.20,random_state=i)\n",
    "  dtree = DecisionTreeClassifier()\n",
    "  dtree.fit(X_train,Y_train)\n",
    "  pred_dt = dtree.predict(X_test)\n",
    "  if(accuracy_score(Y_test, pred_dt)>acc):\n",
    "        acc=accuracy_score(Y_test, pred_dt)\n",
    "        state=i\n",
    "\n",
    "print('Best Accuracy {}'.format(acc))\n",
    "print('Best Random State {}'.format(state))\n",
    "  \n",
    "    "
   ]
  },
  {
   "cell_type": "code",
   "execution_count": 228,
   "metadata": {},
   "outputs": [
    {
     "name": "stdout",
     "output_type": "stream",
     "text": [
      "Accuracy: 0.91\n"
     ]
    }
   ],
   "source": [
    "X_train,X_test,Y_train,Y_test = train_test_split(X,Y,test_size=.20,random_state=997)\n",
    "dtree = DecisionTreeClassifier()\n",
    "dtree.fit(X_train,Y_train)\n",
    "pred_dt = dtree.predict(X_test)\n",
    "print('Accuracy: {:.2f}'.format(accuracy_score(Y_test, pred_dt)))"
   ]
  },
  {
   "cell_type": "code",
   "execution_count": 229,
   "metadata": {},
   "outputs": [
    {
     "name": "stdout",
     "output_type": "stream",
     "text": [
      "              precision    recall  f1-score   support\n",
      "\n",
      "           0       0.69      0.68      0.68       217\n",
      "           1       0.68      0.69      0.68       214\n",
      "           2       0.99      1.00      0.99       237\n",
      "           3       1.00      1.00      1.00       230\n",
      "           4       0.99      0.99      0.99       193\n",
      "           5       1.00      1.00      1.00       482\n",
      "\n",
      "    accuracy                           0.91      1573\n",
      "   macro avg       0.89      0.89      0.89      1573\n",
      "weighted avg       0.91      0.91      0.91      1573\n",
      "\n"
     ]
    }
   ],
   "source": [
    "print(classification_report(Y_test,pred_dt))"
   ]
  },
  {
   "cell_type": "code",
   "execution_count": 230,
   "metadata": {},
   "outputs": [
    {
     "data": {
      "image/png": "[encoded data removed]",
      "text/plain": [
       "<Figure size 640x480 with 2 Axes>"
      ]
     },
     "metadata": {},
     "output_type": "display_data"
    }
   ],
   "source": [
    "# When Ever we have any Kind of table we can represent\n",
    "# it using Heat Map\n",
    "conf_matrix=confusion_matrix(Y_test,pred_dt)\n",
    "sns.heatmap(conf_matrix,annot=True,cmap='Set1')\n",
    "\n",
    "plt.title(\"Confusion Matrix for Decision Tree\")\n",
    "plt.xlabel(\"Predicted\")\n",
    "plt.ylabel(\"Actual\")\n",
    "plt.show()"
   ]
  },
  {
   "cell_type": "code",
   "execution_count": 222,
   "metadata": {},
   "outputs": [
    {
     "name": "stdout",
     "output_type": "stream",
     "text": [
      "Accuracy: 0.90\n"
     ]
    }
   ],
   "source": [
    "from sklearn.ensemble import RandomForestClassifier\n",
    "\n",
    "X_train,X_test,Y_train,Y_test = train_test_split(X,Y,test_size=.20,random_state=1000)\n",
    "rf = RandomForestClassifier()\n",
    "rf.fit(X_train,Y_train)\n",
    "pred_rf = rf.predict(X_test)\n",
    "print('Accuracy: {:.2f}'.format(accuracy_score(Y_test, pred_rf)))"
   ]
  },
  {
   "cell_type": "code",
   "execution_count": 223,
   "metadata": {},
   "outputs": [
    {
     "name": "stdout",
     "output_type": "stream",
     "text": [
      "              precision    recall  f1-score   support\n",
      "\n",
      "           0       0.58      0.57      0.58       195\n",
      "           1       0.62      0.62      0.62       215\n",
      "           2       1.00      1.00      1.00       232\n",
      "           3       1.00      1.00      1.00       235\n",
      "           4       1.00      1.00      1.00       191\n",
      "           5       1.00      1.00      1.00       505\n",
      "\n",
      "    accuracy                           0.90      1573\n",
      "   macro avg       0.87      0.87      0.87      1573\n",
      "weighted avg       0.89      0.90      0.89      1573\n",
      "\n"
     ]
    }
   ],
   "source": [
    "print(classification_report(Y_test,pred_rf))"
   ]
  },
  {
   "cell_type": "code",
   "execution_count": 224,
   "metadata": {},
   "outputs": [
    {
     "data": {
      "image/png": "[encoded data removed]",
      "text/plain": [
       "<Figure size 640x480 with 2 Axes>"
      ]
     },
     "metadata": {},
     "output_type": "display_data"
    }
   ],
   "source": [
    "# When Ever we have any Kind of table we can represent\n",
    "# it using Heat Map\n",
    "conf_matrix=confusion_matrix(Y_test,pred_rf)\n",
    "sns.heatmap(conf_matrix,annot=True,cmap='Set1')\n",
    "\n",
    "plt.title(\"Confusion Matrix for Decision Tree\")\n",
    "plt.xlabel(\"Predicted\")\n",
    "plt.ylabel(\"Actual\")\n",
    "plt.show()"
   ]
  },
  {
   "cell_type": "code",
   "execution_count": 231,
   "metadata": {},
   "outputs": [],
   "source": [
    "import pickle\n",
    "pickle.dump(sc,open('scaler.pkl','wb'))\n",
    "pickle.dump(knn,open('knn.pkl','wb'))"
   ]
  },
  {
   "cell_type": "code",
   "execution_count": 232,
   "metadata": {},
   "outputs": [],
   "source": [
    "model=pickle.load(open('knn.pkl','rb'))\n",
    "standard_scaler=pickle.load(open('scaler.pkl','rb'))"
   ]
  },
  {
   "cell_type": "code",
   "execution_count": 233,
   "metadata": {},
   "outputs": [
    {
     "data": {
      "text/plain": [
       "array([3])"
      ]
     },
     "execution_count": 233,
     "metadata": {},
     "output_type": "execute_result"
    }
   ],
   "source": [
    "new_data_scaled=standard_scaler.transform([[-151,-9.67,85.8,0.4,-0.132,-0.2678]])\n",
    "result=model.predict(new_data_scaled)\n",
    "result"
   ]
  }
 ],
 "metadata": {
  "kernelspec": {
   "display_name": "Python 3 (ipykernel)",
   "language": "python",
   "name": "python3"
  },
  "language_info": {
   "codemirror_mode": {
    "name": "ipython",
    "version": 3
   },
   "file_extension": ".py",
   "mimetype": "text/x-python",
   "name": "python",
   "nbconvert_exporter": "python",
   "pygments_lexer": "ipython3",
   "version": "3.11.7"
  }
 },
 "nbformat": 4,
 "nbformat_minor": 4
}
